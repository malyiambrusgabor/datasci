{
 "cells": [
  {
   "cell_type": "code",
   "execution_count": 4,
   "metadata": {
    "ExecuteTime": {
     "end_time": "2021-05-06T13:40:04.635749Z",
     "start_time": "2021-05-06T13:40:04.454423Z"
    }
   },
   "outputs": [],
   "source": [
    "import pandas as pd\n",
    "import plotly.express as px\n",
    "import plotly.graph_objects as go"
   ]
  },
  {
   "cell_type": "code",
   "execution_count": 5,
   "metadata": {
    "ExecuteTime": {
     "end_time": "2021-05-06T13:40:05.213051Z",
     "start_time": "2021-05-06T13:40:05.153044Z"
    }
   },
   "outputs": [],
   "source": [
    "data = pd.read_csv('data/csv')"
   ]
  },
  {
   "cell_type": "code",
   "execution_count": 6,
   "metadata": {
    "ExecuteTime": {
     "end_time": "2021-05-06T13:40:05.769621Z",
     "start_time": "2021-05-06T13:40:05.765170Z"
    },
    "scrolled": true
   },
   "outputs": [],
   "source": [
    "def convert (x):\n",
    "    year, week = x.split('-')\n",
    "    year = (int (year) - 2020) *  54\n",
    "    return year + int(week)"
   ]
  },
  {
   "cell_type": "code",
   "execution_count": 7,
   "metadata": {
    "ExecuteTime": {
     "end_time": "2021-05-06T13:40:06.421003Z",
     "start_time": "2021-05-06T13:40:06.364352Z"
    }
   },
   "outputs": [],
   "source": [
    "data[ 'week'] = data.year_week.apply(lambda x: convert (x))"
   ]
  },
  {
   "cell_type": "code",
   "execution_count": 8,
   "metadata": {
    "ExecuteTime": {
     "end_time": "2021-05-06T13:40:06.931455Z",
     "start_time": "2021-05-06T13:40:06.915619Z"
    }
   },
   "outputs": [],
   "source": [
    "hun = data[data.country == 'Hungary']"
   ]
  },
  {
   "cell_type": "code",
   "execution_count": 9,
   "metadata": {
    "ExecuteTime": {
     "end_time": "2021-05-06T13:40:07.559234Z",
     "start_time": "2021-05-06T13:40:07.521603Z"
    }
   },
   "outputs": [
    {
     "data": {
      "text/html": [
       "<div>\n",
       "<style scoped>\n",
       "    .dataframe tbody tr th:only-of-type {\n",
       "        vertical-align: middle;\n",
       "    }\n",
       "\n",
       "    .dataframe tbody tr th {\n",
       "        vertical-align: top;\n",
       "    }\n",
       "\n",
       "    .dataframe thead th {\n",
       "        text-align: right;\n",
       "    }\n",
       "</style>\n",
       "<table border=\"1\" class=\"dataframe\">\n",
       "  <thead>\n",
       "    <tr style=\"text-align: right;\">\n",
       "      <th></th>\n",
       "      <th>country</th>\n",
       "      <th>country_code</th>\n",
       "      <th>continent</th>\n",
       "      <th>population</th>\n",
       "      <th>indicator</th>\n",
       "      <th>weekly_count</th>\n",
       "      <th>year_week</th>\n",
       "      <th>rate_14_day</th>\n",
       "      <th>cumulative_count</th>\n",
       "      <th>source</th>\n",
       "      <th>week</th>\n",
       "    </tr>\n",
       "  </thead>\n",
       "  <tbody>\n",
       "    <tr>\n",
       "      <th>11784</th>\n",
       "      <td>Hungary</td>\n",
       "      <td>HUN</td>\n",
       "      <td>Europe</td>\n",
       "      <td>9769526</td>\n",
       "      <td>cases</td>\n",
       "      <td>8</td>\n",
       "      <td>2020-10</td>\n",
       "      <td>NaN</td>\n",
       "      <td>8</td>\n",
       "      <td>Epidemic intelligence, national weekly data</td>\n",
       "      <td>10</td>\n",
       "    </tr>\n",
       "    <tr>\n",
       "      <th>11785</th>\n",
       "      <td>Hungary</td>\n",
       "      <td>HUN</td>\n",
       "      <td>Europe</td>\n",
       "      <td>9769526</td>\n",
       "      <td>cases</td>\n",
       "      <td>31</td>\n",
       "      <td>2020-11</td>\n",
       "      <td>0.399201</td>\n",
       "      <td>39</td>\n",
       "      <td>Epidemic intelligence, national weekly data</td>\n",
       "      <td>11</td>\n",
       "    </tr>\n",
       "    <tr>\n",
       "      <th>11786</th>\n",
       "      <td>Hungary</td>\n",
       "      <td>HUN</td>\n",
       "      <td>Europe</td>\n",
       "      <td>9769526</td>\n",
       "      <td>cases</td>\n",
       "      <td>128</td>\n",
       "      <td>2020-12</td>\n",
       "      <td>1.627510</td>\n",
       "      <td>167</td>\n",
       "      <td>Epidemic intelligence, national weekly data</td>\n",
       "      <td>12</td>\n",
       "    </tr>\n",
       "    <tr>\n",
       "      <th>11787</th>\n",
       "      <td>Hungary</td>\n",
       "      <td>HUN</td>\n",
       "      <td>Europe</td>\n",
       "      <td>9769526</td>\n",
       "      <td>cases</td>\n",
       "      <td>280</td>\n",
       "      <td>2020-13</td>\n",
       "      <td>4.176252</td>\n",
       "      <td>447</td>\n",
       "      <td>Epidemic intelligence, national weekly data</td>\n",
       "      <td>13</td>\n",
       "    </tr>\n",
       "    <tr>\n",
       "      <th>11788</th>\n",
       "      <td>Hungary</td>\n",
       "      <td>HUN</td>\n",
       "      <td>Europe</td>\n",
       "      <td>9769526</td>\n",
       "      <td>cases</td>\n",
       "      <td>297</td>\n",
       "      <td>2020-14</td>\n",
       "      <td>5.906121</td>\n",
       "      <td>744</td>\n",
       "      <td>Epidemic intelligence, national weekly data</td>\n",
       "      <td>14</td>\n",
       "    </tr>\n",
       "  </tbody>\n",
       "</table>\n",
       "</div>"
      ],
      "text/plain": [
       "       country country_code continent  population indicator  weekly_count  \\\n",
       "11784  Hungary          HUN    Europe     9769526     cases             8   \n",
       "11785  Hungary          HUN    Europe     9769526     cases            31   \n",
       "11786  Hungary          HUN    Europe     9769526     cases           128   \n",
       "11787  Hungary          HUN    Europe     9769526     cases           280   \n",
       "11788  Hungary          HUN    Europe     9769526     cases           297   \n",
       "\n",
       "      year_week  rate_14_day  cumulative_count  \\\n",
       "11784   2020-10          NaN                 8   \n",
       "11785   2020-11     0.399201                39   \n",
       "11786   2020-12     1.627510               167   \n",
       "11787   2020-13     4.176252               447   \n",
       "11788   2020-14     5.906121               744   \n",
       "\n",
       "                                            source  week  \n",
       "11784  Epidemic intelligence, national weekly data    10  \n",
       "11785  Epidemic intelligence, national weekly data    11  \n",
       "11786  Epidemic intelligence, national weekly data    12  \n",
       "11787  Epidemic intelligence, national weekly data    13  \n",
       "11788  Epidemic intelligence, national weekly data    14  "
      ]
     },
     "execution_count": 9,
     "metadata": {},
     "output_type": "execute_result"
    }
   ],
   "source": [
    "hun.head()"
   ]
  },
  {
   "cell_type": "code",
   "execution_count": 10,
   "metadata": {
    "ExecuteTime": {
     "end_time": "2021-05-06T13:40:08.803019Z",
     "start_time": "2021-05-06T13:40:08.420428Z"
    }
   },
   "outputs": [],
   "source": [
    "fig = px.line(data_frame = hun, x = 'week', y = 'cumulative_count', color = 'indicator')"
   ]
  },
  {
   "cell_type": "code",
   "execution_count": 11,
   "metadata": {
    "ExecuteTime": {
     "end_time": "2021-05-06T13:40:09.993680Z",
     "start_time": "2021-05-06T13:40:09.823301Z"
    }
   },
   "outputs": [],
   "source": [
    "f = go.FigureWidget(fig)"
   ]
  },
  {
   "cell_type": "code",
   "execution_count": null,
   "metadata": {},
   "outputs": [],
   "source": []
  }
 ],
 "metadata": {
  "kernelspec": {
   "display_name": "Python 3",
   "language": "python",
   "name": "python3"
  },
  "language_info": {
   "codemirror_mode": {
    "name": "ipython",
    "version": 3
   },
   "file_extension": ".py",
   "mimetype": "text/x-python",
   "name": "python",
   "nbconvert_exporter": "python",
   "pygments_lexer": "ipython3",
   "version": "3.8.5"
  },
  "toc": {
   "base_numbering": 1,
   "nav_menu": {},
   "number_sections": false,
   "sideBar": true,
   "skip_h1_title": false,
   "title_cell": "Table of Contents",
   "title_sidebar": "Contents",
   "toc_cell": false,
   "toc_position": {},
   "toc_section_display": true,
   "toc_window_display": false
  }
 },
 "nbformat": 4,
 "nbformat_minor": 4
}
